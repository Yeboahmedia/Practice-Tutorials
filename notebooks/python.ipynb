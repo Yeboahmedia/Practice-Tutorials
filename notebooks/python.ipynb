{
 "cells": [
  {
   "cell_type": "markdown",
   "metadata": {},
   "source": [
    "# Python"
   ]
  },
  {
   "cell_type": "markdown",
   "metadata": {},
   "source": [
    "## Integers"
   ]
  },
  {
   "cell_type": "code",
   "execution_count": null,
   "metadata": {},
   "outputs": [],
   "source": [
    "x = 3\n",
    "print(type(x))\n",
    "print(x)\n",
    "print(x + 1)\n",
    "print(x - 1)\n",
    "print (x * 2)\n",
    "print (x ** 2)\n",
    "print(x)\n",
    "x += 1\n",
    "print (x)\n",
    "x *= 2\n",
    "print(x)\n",
    "\n",
    "y = 2.5 \n",
    "print(type(y))\n",
    "print(y, y + 1, y * 2, y **2)"
   ]
  },
  {
   "cell_type": "markdown",
   "metadata": {},
   "source": [
    "## Boolean"
   ]
  },
  {
   "cell_type": "code",
   "execution_count": null,
   "metadata": {},
   "outputs": [],
   "source": [
    "t = True\n",
    "f = False\n",
    "\n",
    "print(type(t))\n",
    "print(t and f)\n",
    "print(t or f)\n",
    "print(not t)\n",
    "print (t != f)"
   ]
  },
  {
   "cell_type": "markdown",
   "metadata": {},
   "source": [
    "## Strings"
   ]
  },
  {
   "cell_type": "code",
   "execution_count": null,
   "metadata": {},
   "outputs": [],
   "source": [
    "hello = 'hello'\n",
    "world = 'world'\n",
    "print(hello)\n",
    "print(len(hello))\n",
    "hw = hello + ' ' + world\n",
    "print(hw)\n",
    "hw12 = '%s %s %d' % (hello, world, 12)\n",
    "print(hw12)"
   ]
  },
  {
   "cell_type": "markdown",
   "metadata": {},
   "source": [
    "### String Methods"
   ]
  },
  {
   "cell_type": "code",
   "execution_count": null,
   "metadata": {},
   "outputs": [],
   "source": [
    "s = 'hello'\n",
    "print(s.capitalize())\n",
    "print(s.upper())\n",
    "print(s.rjust(7))\n",
    "print(s.ljust(7))\n",
    "print(s.center(7))\n",
    "print(s.replace('l', '(ell)'))\n",
    "print('  world'.strip())\n"
   ]
  },
  {
   "cell_type": "markdown",
   "metadata": {},
   "source": [
    "## Containers"
   ]
  },
  {
   "cell_type": "markdown",
   "metadata": {},
   "source": [
    "### List"
   ]
  },
  {
   "cell_type": "code",
   "execution_count": null,
   "metadata": {},
   "outputs": [],
   "source": [
    "xs = [3, 1, 2]\n",
    "print(xs, xs[2])\n",
    "print(xs[-1])\n",
    "xs[2] = 'foo'\n",
    "print(xs)\n",
    "xs.append('bar')\n",
    "print(xs)\n",
    "x = xs.pop()\n",
    "print(x, xs)\n",
    "y = [1,2,3]\n",
    "xs.extend(y)\n",
    "print(xs)\n",
    "xs.insert(3, x)\n",
    "print(xs)\n",
    "m = xs.pop(-2)\n",
    "print(m)\n",
    "xs.remove('foo')\n",
    "xs.remove('bar')\n",
    "print(xs)\n",
    "y.clear()\n",
    "print(y)\n",
    "print(xs.count(3))\n",
    "z = xs.reverse()\n",
    "print(z)\n"
   ]
  },
  {
   "cell_type": "markdown",
   "metadata": {},
   "source": [
    "#### Slicing"
   ]
  },
  {
   "cell_type": "code",
   "execution_count": null,
   "metadata": {},
   "outputs": [],
   "source": [
    "nums = list(range(5))\n",
    "print(nums)\n",
    "print(nums[2:4])\n",
    "print(nums[2:])\n",
    "print(nums[:2])\n",
    "print(nums[:])\n",
    "print(nums[:-1])\n",
    "nums[2:4] = [8, 9]\n",
    "print(nums)"
   ]
  },
  {
   "cell_type": "markdown",
   "metadata": {},
   "source": [
    "#### loops"
   ]
  },
  {
   "cell_type": "code",
   "execution_count": null,
   "metadata": {},
   "outputs": [],
   "source": [
    "animals = ['cat', 'dog', 'monkey']\n",
    "for animal in animals:\n",
    "    print(animal)\n",
    "\n",
    "# to access each index within the loop, we use enums\n",
    "for idx, animal in enumerate(animals):\n",
    "    print('@index %d: %s' % (idx, animal))"
   ]
  },
  {
   "cell_type": "markdown",
   "metadata": {},
   "source": [
    "#### List comprehensions\n",
    "\n",
    "[do_this for_this_loop and_any_conditionals ]"
   ]
  },
  {
   "cell_type": "code",
   "execution_count": null,
   "metadata": {},
   "outputs": [],
   "source": [
    "# instead of the example below, we simplify with list comprehension\n",
    "# nums = list(range(1,5))\n",
    "# squares = []\n",
    "# for x in nums:\n",
    "#     squares.append(x**2)\n",
    "# print(squares)\n",
    "\n",
    "###  list comprehension\n",
    "nums = list(range(1,5))\n",
    "squares = [ x**2 for x in nums]\n",
    "print(squares)\n",
    "\n",
    "list_sample = list(range(10, 200, 20))\n",
    "modulos = [ x % 3 for x in list_sample]\n",
    "print(modulos)\n",
    "\n",
    "### adding conditionals in python\n",
    "even_squares = [x ** 2 for x in list_sample if x % 2 == 0 ]\n",
    "odd_squares = [x ** 2 for x in list_sample if x % 3 > 0]\n",
    "print(even_squares)\n",
    "print(odd_squares)\n",
    "\n",
    "### adding enums to the mix\n",
    "enum_list = list(range(1,30,3))\n",
    "indexer_find = [print('@%d %s' % (idx, x)) for idx, x in enumerate(enum_list)]\n"
   ]
  },
  {
   "cell_type": "markdown",
   "metadata": {},
   "source": [
    "### Dictionaries"
   ]
  },
  {
   "cell_type": "code",
   "execution_count": null,
   "metadata": {},
   "outputs": [],
   "source": [
    "d = {'cat': 'cute', 'lion': 'wild'}\n",
    "print(d)\n",
    "print('cat' in d)\n",
    "d['fish'] = 'wet'\n",
    "print(d['fish'])\n",
    "# print(d['monkey'])\n",
    "print(d.get('monkey', 'N/A'))\n",
    "print(d.get('fish', 'N/A'))\n",
    "del d['fish']\n",
    "print(d.get('fish', 'N/A'))\n",
    "\n",
    "### loops \n",
    "d = {'person': 2, 'cat': 4, 'spider': 8}\n",
    "for animal in d:\n",
    "    legs = d[animal]\n",
    "    print('a %s has %d legs' % (animal, legs))\n",
    "\n",
    "### using `items` method to access keys and their corresponding values\n",
    "for animal, legs in d.items():\n",
    "    print('a %s has %d legs' % (animal, legs))\n",
    "\n",
    "### dictionary comprehensions\n",
    "enum_list = list(range(1,5))\n",
    "even_num_to_square = {x: x**2 for x in enum_list if x % 2 == 0}\n",
    "print(even_num_to_square)\n"
   ]
  },
  {
   "cell_type": "markdown",
   "metadata": {},
   "source": [
    "### Sets"
   ]
  },
  {
   "cell_type": "code",
   "execution_count": null,
   "metadata": {},
   "outputs": [],
   "source": [
    "animals = {'cats', 'dogs'}\n",
    "print('fish' in animals)\n",
    "animals.add('fish')\n",
    "print('fish' in animals)\n",
    "animals.remove('cats')\n",
    "print(len(animals))\n",
    "animals.add('panda')\n",
    "\n",
    "### loops\n",
    "for idx, animal in enumerate(animals):\n",
    "    print('%d idx : %s animal' % (idx, animal))\n",
    "\n",
    "### set comprehensions\n",
    "from math import sqrt\n",
    "nums = {int(sqrt(x)) for x in range(30)}\n",
    "print(nums)"
   ]
  },
  {
   "cell_type": "code",
   "execution_count": null,
   "metadata": {},
   "outputs": [],
   "source": [
    "### Tuples\n",
    "d = {(x, x+1): x for x in range(10)}\n",
    "t = (5, 6)\n",
    "print(type(d))\n",
    "print(type(t))\n",
    "print(d[t])\n",
    "print(t in d)\n",
    "print(d[(1,2)])\n",
    "t = 123, 34, 'hello'\n",
    "\n",
    "print(len(t))\n",
    "print(t)\n",
    "x, y, z = t\n",
    "print(y)\n",
    "m = hello, \n",
    "print(m)\n",
    "print(len(m))"
   ]
  },
  {
   "cell_type": "markdown",
   "metadata": {},
   "source": [
    "## Functions"
   ]
  },
  {
   "cell_type": "code",
   "execution_count": null,
   "metadata": {},
   "outputs": [],
   "source": [
    "def sign(x):\n",
    "    if x > 0:\n",
    "        return 'positive'\n",
    "    elif x < 0:\n",
    "        return 'negative'\n",
    "    else:\n",
    "        return 'zero'\n",
    "    \n",
    "for x in [-1, 0, 1]:\n",
    "    print(sign(x))\n",
    "\n",
    "def hello(name, loud=False):\n",
    "    if loud:\n",
    "        print('HELLO, %s name' % name.upper())\n",
    "    else:\n",
    "        print('Hello, %s' % name)\n",
    "\n",
    "\n",
    "hello('John')\n",
    "hello('John', loud=True)"
   ]
  },
  {
   "cell_type": "markdown",
   "metadata": {},
   "source": [
    "## Classes"
   ]
  },
  {
   "cell_type": "code",
   "execution_count": null,
   "metadata": {},
   "outputs": [],
   "source": [
    "class Greeter(object):\n",
    "    # class  variable shared by all instances\n",
    "    kind = 'greetings'\n",
    "    # constructor\n",
    "    def __init__(self, name):\n",
    "        self.name = name #creates an instance variable\n",
    "\n",
    "    #instance method\n",
    "    def greet(self, loud=False):\n",
    "        if loud:\n",
    "            print('HELLO %s' % self.name.upper())\n",
    "        else:\n",
    "             print('Hello %s' % self.name)\n",
    "\n",
    "    def bye(self):\n",
    "         print('%s says goodbye' % self.name)\n",
    "\n",
    "g = Greeter('Fred')\n",
    "g.greet()\n",
    "g.greet(loud=True)\n",
    "g.bye()\n",
    "m = Greeter('John')\n",
    "print(g.kind)\n",
    "print(m.kind)\n",
    "print(m.name)\n",
    "\n",
    "### scopes\n",
    "def scope_test():\n",
    "    def do_local():\n",
    "        spam = \"local spam\"\n",
    "\n",
    "    def do_nonlocal():\n",
    "        nonlocal spam\n",
    "        spam = \"nonlocal spam\"\n",
    "    \n",
    "    def do_global():\n",
    "        global spam\n",
    "        spam = \"global spam\"\n",
    "    \n",
    "    spam = \"test spam\"\n",
    "    do_local()\n",
    "    print('after local assignment: ', spam)\n",
    "    do_nonlocal()\n",
    "    print('after non_local assignment: ', spam)\n",
    "    do_global()\n",
    "    print('after global assignment: ', spam)\n",
    "\n",
    "scope_test()\n",
    "print('In global assignment: ', spam)\n"
   ]
  },
  {
   "cell_type": "code",
   "execution_count": 350,
   "metadata": {},
   "outputs": [
    {
     "name": "stdout",
     "output_type": "stream",
     "text": [
      "after local assignment:  test spam\n",
      "after non_local assignment:  nonlocal spam\n",
      "after global assignment:  nonlocal spam\n",
      "In global assignment:  global spam\n",
      "203 <function MySimpleClass.f at 0x110664540> \n",
      "        ### Docstring for be this the python class\n",
      "    \n",
      "My simple function\n",
      "first var True\n",
      "16\n",
      "Cessna 182 Pilatus 182\n",
      "fixed_wing fixed_wing\n",
      "['2400 nautical miles']\n",
      "['fixed_wing']\n",
      "<class 'type'>\n"
     ]
    }
   ],
   "source": [
    "### Detailed exploration\n",
    "\n",
    "'''\n",
    "scope search \n",
    "    if name == innermost_function:\n",
    "        return local name\n",
    "    elif name == nearest_enclosing_function\n",
    "       return non-local || non-global name\n",
    "    elif name === next-last-scope\n",
    "        return global name\n",
    "    elif outermost_scope\n",
    "        return builtin\n",
    "    else\n",
    "        not found in scope\n",
    "\n",
    "'''\n",
    "\n",
    "### scopes\n",
    "def scope_test():\n",
    "    def do_local():\n",
    "        spam = \"local spam\"\n",
    "\n",
    "    def do_nonlocal():\n",
    "        nonlocal spam\n",
    "        spam = \"nonlocal spam\"\n",
    "    \n",
    "    def do_global():\n",
    "        global spam\n",
    "        spam = \"global spam\"\n",
    "    \n",
    "    spam = \"test spam\"\n",
    "    do_local()\n",
    "    print('after local assignment: ', spam)\n",
    "    do_nonlocal()\n",
    "    print('after non_local assignment: ', spam)\n",
    "    do_global()\n",
    "    print('after global assignment: ', spam)\n",
    "\n",
    "scope_test()\n",
    "print('In global assignment: ', spam)\n",
    "\n",
    "'''\n",
    "ote how the local assignment (which is default) didn’t change scope_test's binding of spam. The nonlocal assignment changed scope_test's binding of spam, and the global assignment changed the module-level binding.\n",
    "\n",
    "You can also see that there was no previous binding for spam before the global assignment.\n",
    "'''\n",
    "\n",
    "### Class Definitions\n",
    "\n",
    "class MySimpleClass:\n",
    "    '''\n",
    "        ### Docstring for be this the python class\n",
    "    '''\n",
    "    # statements \n",
    "    i = '12'\n",
    "\n",
    "    def __init__(self) -> None:\n",
    "        pass\n",
    "\n",
    "    def f(self):\n",
    "        return 'My simple function'\n",
    "    \n",
    "    \n",
    "MySimpleClass.i = '203'\n",
    "a = MySimpleClass.i\n",
    "b = MySimpleClass.f\n",
    "c = MySimpleClass.__doc__\n",
    "print(a, b, c)\n",
    "\n",
    "'''\n",
    "## Note: Function object vs Method Object\n",
    "if you assing class to variable x eg. a = MysimpleClass; then a.f is a function object\n",
    "However, MysimpleClass is a method object\n",
    "'''\n",
    "x =  MySimpleClass()\n",
    "print(x.f())\n",
    "\n",
    "\n",
    "class Complex():\n",
    "    def __init__(self, var1, var2, definer=True):\n",
    "        self.a = var1\n",
    "        self.b = var2\n",
    "        self.bool = definer\n",
    "\n",
    "\n",
    "x = Complex('first var', 'second var')\n",
    "print(x.a, x.bool)\n",
    "\n",
    "# Instance Objects [data atrributes and methods]\n",
    "x = Complex(3.0, -4.5)\n",
    "x.counter = 1\n",
    "\n",
    "while x.counter < 10:\n",
    "    x.counter *= 2\n",
    "print(x.counter)\n",
    "del x.counter\n",
    "# print(x.counter)  # should throw an AttributeError\n",
    "\n",
    "\n",
    "### Class and instance variables\n",
    "\n",
    "class Airplane:\n",
    "\n",
    "    kind = 'fixed_wing'  # variable shared by all class instances\n",
    "    general_props = [kind]   # avoid: anything here will be shared by all class instance and can be changed by each instance.\n",
    "    def __init__(self, name):\n",
    "        self.name = name # instance variable unique to each instance\n",
    "        self.props = []\n",
    "\n",
    "    def addProp(self, prop):\n",
    "        self.props.append(prop)\n",
    "\n",
    "\n",
    "cessna_182 = Airplane('Cessna 182')\n",
    "pilatus_ngx12 = Airplane('Pilatus 182')\n",
    "pilatus_ngx12.addProp('2400 nautical miles')\n",
    "print(cessna_182.name, pilatus_ngx12.name)\n",
    "print(cessna_182.kind, pilatus_ngx12.kind)\n",
    "print(pilatus_ngx12.props)\n",
    "print(pilatus_ngx12.general_props)\n",
    "\n",
    "print(Airplane.__class__)\n"
   ]
  },
  {
   "cell_type": "code",
   "execution_count": 355,
   "metadata": {},
   "outputs": [
    {
     "name": "stdout",
     "output_type": "stream",
     "text": [
      "cessna\n"
     ]
    }
   ],
   "source": [
    "### Inheritance : class DerivedClassName(BaseClassName):or class DerivedClassName(modname.BaseClassName):\n",
    "class Aircraft:\n",
    "    def __init__(self, name):\n",
    "        self.name = name # instance variable unique to each instance\n",
    "        self.props = []\n",
    "\n",
    "    def addProp(self, prop):\n",
    "        self.props.append(prop)\n",
    "\n",
    "\n",
    "class FixedWing(Aircraft):\n",
    "    def __init__(self, name):\n",
    "        self.name = name\n",
    "    \n",
    "\n",
    "\n",
    "a = FixedWing('cessna')\n",
    "print(a.name)"
   ]
  },
  {
   "cell_type": "markdown",
   "metadata": {},
   "source": [
    "# Numpy"
   ]
  },
  {
   "cell_type": "markdown",
   "metadata": {},
   "source": [
    "## Arrays"
   ]
  },
  {
   "cell_type": "code",
   "execution_count": null,
   "metadata": {},
   "outputs": [],
   "source": [
    "import numpy as np\n",
    "import pandas as pd\n",
    "\n",
    "a = np.array([1,2,3])\n",
    "print('type: %s shape:  %s' % (type(a), a.shape))\n",
    "print(a[0], a[1], a[2])\n",
    "a[0] = 5\n",
    "print(a)\n",
    "\n",
    "b = np.array([[1,2,3], [4,5,6]])\n",
    "print(b.shape)\n",
    "df = pd.DataFrame(b)\n",
    "print(df)\n",
    "print(b[0, 0], b[0,1], b[0,2])\n",
    "\n",
    "null_matrix = np.zeros((2,2))\n",
    "print(pd.DataFrame(null_matrix))\n",
    "\n",
    "unit_matrix = np.ones((2,5))\n",
    "print(pd.DataFrame(unit_matrix))\n",
    "\n",
    "full_matrix = np.full((2,2), 7)\n",
    "print(pd.DataFrame(full_matrix))\n",
    "\n",
    "identity_matrix = np.eye((2))\n",
    "print(pd.DataFrame(identity_matrix))\n",
    "\n",
    "random_matrix = np.random.random((2,2))\n",
    "print(pd.DataFrame(random_matrix))\n",
    "\n"
   ]
  },
  {
   "cell_type": "markdown",
   "metadata": {},
   "source": [
    "### six mechanisms for array creation in [docs](https://numpy.org/doc/stable/user/basics.creation.html#arrays-creation)"
   ]
  },
  {
   "cell_type": "code",
   "execution_count": null,
   "metadata": {},
   "outputs": [],
   "source": [
    "### 1. Converting Python sequences to NumPy Arrays\n",
    "a2d = np.array([[1,2,3], [8,9,10]], dtype=np.int8)\n",
    "print(a2d)\n",
    "\n",
    "### 2. Intrinsic NumPy array creation functions\n",
    "\n",
    "np.arange(10)\n",
    "np.arange(2,10, dtype=float)\n",
    "np.arange(2,3, 0.1)\n",
    "\n",
    "np.linspace(1, 4, 6)\n",
    "np.eye(3, 5)\n",
    "np.diag([1,2,3], 1)\n",
    "np.vander(np.linspace(0,2,3))\n",
    "\n",
    "### 3. general ndarray creation functions\n",
    "np.indices((3,3))\n",
    "np.ones((2,3))\n",
    "np.random.default_rng(20).random((2,3))\n",
    "\n",
    "\n",
    "#### 4. Replicating, joining, or mutating existing arrays\n",
    "a = np.array([1,2,3,4,5])\n",
    "\n",
    "'''\n",
    "these creates a view into the array.\n",
    "but does not create new arrays\n",
    "'''\n",
    "b = a[:2]\n",
    "print(b)\n",
    "\n",
    "b += 1\n",
    "print(b)\n",
    "a += 1\n",
    "print(a)\n",
    "\n",
    "print('a =', a, '; b =', b, type(b))\n",
    "'''\n",
    "to create, use copy\n",
    "'''\n",
    "ab = np.array([1,2,3,4])\n",
    "bc = a[:2].copy()\n",
    "print('ab =', ab, '; bc =', bc, type(ab))\n",
    "\n",
    "'''\n",
    "stacking\n",
    "'''\n",
    "A = np.ones((2,2))\n",
    "B = np.eye(2, 2)\n",
    "C = np.zeros((2,2))\n",
    "D = np.diag((2,2))\n",
    "np.block([[A,B], [C, D]])\n",
    "\n",
    "np.vstack((A,B))\n",
    "np.hstack((A,B))"
   ]
  },
  {
   "cell_type": "code",
   "execution_count": null,
   "metadata": {},
   "outputs": [],
   "source": []
  }
 ],
 "metadata": {
  "kernelspec": {
   "display_name": "Python 3",
   "language": "python",
   "name": "python3"
  },
  "language_info": {
   "codemirror_mode": {
    "name": "ipython",
    "version": 3
   },
   "file_extension": ".py",
   "mimetype": "text/x-python",
   "name": "python",
   "nbconvert_exporter": "python",
   "pygments_lexer": "ipython3",
   "version": "3.11.1"
  }
 },
 "nbformat": 4,
 "nbformat_minor": 2
}
